{
 "cells": [
  {
   "cell_type": "code",
   "execution_count": 2,
   "id": "c7091720",
   "metadata": {},
   "outputs": [],
   "source": [
    "# 학습용 데이터\n",
    "from sklearn import datasets\n",
    "\n",
    "# 학습용, 테스트용 데이터 나누기\n",
    "from sklearn.model_selection import train_test_split\n",
    "\n",
    "# 테이터 표준화 (퓨처 스케일링)\n",
    "from sklearn.preprocessing import StandardScaler\n",
    "\n",
    "# 모델(알고리즘)\n",
    "from sklearn.linear_model import LogisticRegression\n",
    "\n",
    "# 모델 성능 평가\n",
    "from sklearn.metrics import accuracy_score\n",
    "\n",
    "import pickle\n",
    "import numpy as np"
   ]
  },
  {
   "cell_type": "code",
   "execution_count": 4,
   "id": "89ee54cb",
   "metadata": {},
   "outputs": [],
   "source": [
    "names = None\n",
    "\n",
    "def step1_get_data():\n",
    "    iris = datasets.load_iris()\n",
    "    X = iris.data[:150, [2, 3]]\n",
    "    y = iris.target[:150]\n",
    "    names = iris.target_names[:3]\n",
    "    return X, y"
   ]
  },
  {
   "cell_type": "code",
   "execution_count": 7,
   "id": "48625a5a",
   "metadata": {},
   "outputs": [],
   "source": [
    "def step2_learning():\n",
    "  X, y = step1_get_data()\n",
    "  X_train, X_test, y_train, y_test = train_test_split(X, y, test_size=0.3, random_state=1)\n",
    "  sc = StandardScaler()\n",
    "  sc.fit(X_train)\n",
    "  X_train_std = sc.transform(X_train)\n",
    "  ml = LogisticRegression(C=1000.0, random_state=1)\n",
    "  ml.fit(X_train_std, y_train)\n",
    "  X_test_std = sc.transform(X_test)\n",
    "  y_pred = ml.predict(X_test_std)\n",
    "  print(\"학습 정확도 : \", accuracy_score(y_test, y_pred))\n",
    "  with open(\"./lr.pickle\", \"wb\") as fp:\n",
    "    pickle.dump(sc, fp)\n",
    "    pickle.dump(ml, fp)"
   ]
  },
  {
   "cell_type": "code",
   "execution_count": 8,
   "id": "60225f54",
   "metadata": {},
   "outputs": [
    {
     "name": "stdout",
     "output_type": "stream",
     "text": [
      "학습 정확도 :  0.9555555555555556\n"
     ]
    }
   ],
   "source": [
    "step2_learning()"
   ]
  },
  {
   "cell_type": "code",
   "execution_count": null,
   "id": "df3dc7da",
   "metadata": {},
   "outputs": [],
   "source": []
  }
 ],
 "metadata": {
  "kernelspec": {
   "display_name": ".venv",
   "language": "python",
   "name": "python3"
  },
  "language_info": {
   "codemirror_mode": {
    "name": "ipython",
    "version": 3
   },
   "file_extension": ".py",
   "mimetype": "text/x-python",
   "name": "python",
   "nbconvert_exporter": "python",
   "pygments_lexer": "ipython3",
   "version": "3.11.11"
  }
 },
 "nbformat": 4,
 "nbformat_minor": 5
}
