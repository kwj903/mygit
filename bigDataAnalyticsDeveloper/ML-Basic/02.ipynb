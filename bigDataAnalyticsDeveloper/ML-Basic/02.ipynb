{
 "cells": [
  {
   "cell_type": "code",
   "execution_count": 16,
   "id": "5f156a20",
   "metadata": {},
   "outputs": [],
   "source": [
    "import numpy as np\n",
    "import pandas as pd\n",
    "from Perceptron import Perceptron\n",
    "import time\n",
    "import pickle\n",
    "import seaborn as sns"
   ]
  },
  {
   "cell_type": "code",
   "execution_count": 17,
   "id": "d9c2b744",
   "metadata": {},
   "outputs": [
    {
     "data": {
      "text/plain": [
       "(pandas.core.frame.DataFrame, (150, 5))"
      ]
     },
     "execution_count": 17,
     "metadata": {},
     "output_type": "execute_result"
    }
   ],
   "source": [
    "iris = sns.load_dataset('iris')\n",
    "type(iris), iris.shape"
   ]
  },
  {
   "cell_type": "code",
   "execution_count": 41,
   "id": "0791175d",
   "metadata": {},
   "outputs": [],
   "source": [
    "iris.to_csv(\"./iris.csv\", index=False)"
   ]
  },
  {
   "cell_type": "code",
   "execution_count": 19,
   "id": "dedcfdd7",
   "metadata": {},
   "outputs": [
    {
     "data": {
      "text/html": [
       "<div>\n",
       "<style scoped>\n",
       "    .dataframe tbody tr th:only-of-type {\n",
       "        vertical-align: middle;\n",
       "    }\n",
       "\n",
       "    .dataframe tbody tr th {\n",
       "        vertical-align: top;\n",
       "    }\n",
       "\n",
       "    .dataframe thead th {\n",
       "        text-align: right;\n",
       "    }\n",
       "</style>\n",
       "<table border=\"1\" class=\"dataframe\">\n",
       "  <thead>\n",
       "    <tr style=\"text-align: right;\">\n",
       "      <th></th>\n",
       "      <th>sepal_length</th>\n",
       "      <th>sepal_width</th>\n",
       "      <th>petal_length</th>\n",
       "      <th>petal_width</th>\n",
       "      <th>species</th>\n",
       "    </tr>\n",
       "  </thead>\n",
       "  <tbody>\n",
       "    <tr>\n",
       "      <th>145</th>\n",
       "      <td>6.7</td>\n",
       "      <td>3.0</td>\n",
       "      <td>5.2</td>\n",
       "      <td>2.3</td>\n",
       "      <td>virginica</td>\n",
       "    </tr>\n",
       "    <tr>\n",
       "      <th>146</th>\n",
       "      <td>6.3</td>\n",
       "      <td>2.5</td>\n",
       "      <td>5.0</td>\n",
       "      <td>1.9</td>\n",
       "      <td>virginica</td>\n",
       "    </tr>\n",
       "    <tr>\n",
       "      <th>147</th>\n",
       "      <td>6.5</td>\n",
       "      <td>3.0</td>\n",
       "      <td>5.2</td>\n",
       "      <td>2.0</td>\n",
       "      <td>virginica</td>\n",
       "    </tr>\n",
       "    <tr>\n",
       "      <th>148</th>\n",
       "      <td>6.2</td>\n",
       "      <td>3.4</td>\n",
       "      <td>5.4</td>\n",
       "      <td>2.3</td>\n",
       "      <td>virginica</td>\n",
       "    </tr>\n",
       "    <tr>\n",
       "      <th>149</th>\n",
       "      <td>5.9</td>\n",
       "      <td>3.0</td>\n",
       "      <td>5.1</td>\n",
       "      <td>1.8</td>\n",
       "      <td>virginica</td>\n",
       "    </tr>\n",
       "  </tbody>\n",
       "</table>\n",
       "</div>"
      ],
      "text/plain": [
       "     sepal_length  sepal_width  petal_length  petal_width    species\n",
       "145           6.7          3.0           5.2          2.3  virginica\n",
       "146           6.3          2.5           5.0          1.9  virginica\n",
       "147           6.5          3.0           5.2          2.0  virginica\n",
       "148           6.2          3.4           5.4          2.3  virginica\n",
       "149           5.9          3.0           5.1          1.8  virginica"
      ]
     },
     "execution_count": 19,
     "metadata": {},
     "output_type": "execute_result"
    }
   ],
   "source": [
    "iris.tail()"
   ]
  },
  {
   "cell_type": "code",
   "execution_count": 30,
   "id": "b47401f4",
   "metadata": {},
   "outputs": [
    {
     "data": {
      "text/plain": [
       "array([ 1,  1,  1,  1,  1,  1,  1,  1,  1,  1,  1,  1,  1,  1,  1,  1,  1,\n",
       "        1,  1,  1,  1,  1,  1,  1,  1,  1,  1,  1,  1,  1,  1,  1,  1,  1,\n",
       "        1,  1,  1,  1,  1,  1,  1,  1,  1,  1,  1,  1,  1,  1,  1,  1, -1,\n",
       "       -1, -1, -1, -1, -1, -1, -1, -1, -1, -1, -1, -1, -1, -1, -1, -1, -1,\n",
       "       -1, -1, -1, -1, -1, -1, -1, -1, -1, -1, -1, -1, -1, -1, -1, -1, -1,\n",
       "       -1, -1, -1, -1, -1, -1, -1, -1, -1, -1, -1, -1, -1, -1])"
      ]
     },
     "execution_count": 30,
     "metadata": {},
     "output_type": "execute_result"
    }
   ],
   "source": [
    "np.where(iris.iloc[:99, 4].values == \"setosa\", 1, -1)"
   ]
  },
  {
   "cell_type": "code",
   "execution_count": 32,
   "id": "b4123d68",
   "metadata": {},
   "outputs": [],
   "source": [
    "def step1_learning():\n",
    "    X = iris.iloc[:99, [2, 3]].values\n",
    "    y = np.where(iris.iloc[:99, 4].values == \"setosa\", 1, -1)\n",
    "    # 모델 학습\n",
    "    ppn = Perceptron(eta=0.1)\n",
    "    s_time = time.time()\n",
    "    ppn.fit(X, y)\n",
    "    e_time = time.time()\n",
    "    print(\"학습에 걸린 시간: \", e_time - s_time)\n",
    "    print(\"학습 중에 오차난 수:\", ppn.errors_)\n",
    "    with open(\"./iris_model.pickle\", \"wb\") as f:\n",
    "        pickle.dump(ppn, f)\n",
    "    print(\"학습이 완료되었습니다.\")"
   ]
  },
  {
   "cell_type": "code",
   "execution_count": 36,
   "id": "46790d70",
   "metadata": {},
   "outputs": [
    {
     "name": "stdout",
     "output_type": "stream",
     "text": [
      "update:  0.2\n",
      "w_:  [0.28 0.04] b:  0.2\n",
      "update:  -0.2\n",
      "w_:  [-0.66 -0.24] b:  0.0\n",
      "update:  0.2\n",
      "w_:  [-0.38 -0.2 ] b:  0.2\n",
      "update:  0.2\n",
      "w_:  [-0.1  -0.16] b:  0.4\n",
      "학습에 걸린 시간:  0.004675865173339844\n",
      "학습 중에 오차난 수: [2, 2, 0, 0, 0, 0, 0, 0, 0, 0]\n",
      "학습이 완료되었습니다.\n"
     ]
    }
   ],
   "source": [
    "step1_learning()"
   ]
  },
  {
   "cell_type": "code",
   "execution_count": 39,
   "id": "d5c9afd2",
   "metadata": {},
   "outputs": [],
   "source": [
    "def setp2_using():\n",
    "    with open(\"./iris_model.pickle\", \"rb\") as f:\n",
    "        model = pickle.load(f)\n",
    "        while True:\n",
    "            a1 = input(\"첫 번째 숫자를 입력하세요(0, 1): \")\n",
    "            a2 = input(\"두 번째 숫자를 입력하세요(0, 1): \")\n",
    "\n",
    "            if a1 == \"99\":\n",
    "                break\n",
    "            X = np.array([float(a1), float(a2)])\n",
    "            result = model.predict(X)\n",
    "\n",
    "            if result == 1:\n",
    "                print(\"결과 : setosa\")\n",
    "            else:\n",
    "                print(\"결과 : versicolor\")"
   ]
  },
  {
   "cell_type": "code",
   "execution_count": 42,
   "id": "330cbb3b",
   "metadata": {},
   "outputs": [
    {
     "name": "stdout",
     "output_type": "stream",
     "text": [
      "결과 : setosa\n"
     ]
    }
   ],
   "source": [
    "setp2_using()"
   ]
  },
  {
   "cell_type": "code",
   "execution_count": null,
   "id": "fb957bb7",
   "metadata": {},
   "outputs": [],
   "source": []
  }
 ],
 "metadata": {
  "kernelspec": {
   "display_name": ".venv",
   "language": "python",
   "name": "python3"
  },
  "language_info": {
   "codemirror_mode": {
    "name": "ipython",
    "version": 3
   },
   "file_extension": ".py",
   "mimetype": "text/x-python",
   "name": "python",
   "nbconvert_exporter": "python",
   "pygments_lexer": "ipython3",
   "version": "3.11.11"
  }
 },
 "nbformat": 4,
 "nbformat_minor": 5
}
