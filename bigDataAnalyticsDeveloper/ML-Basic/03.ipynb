{
 "cells": [
  {
   "cell_type": "code",
   "execution_count": null,
   "id": "36f87a11",
   "metadata": {},
   "outputs": [],
   "source": [
    "# 학습용 데이터\n",
    "from sklearn import datasets\n",
    "\n",
    "# 학습용, 테스트용 데이터 나누기\n",
    "from sklearn.model_selection import train_test_split\n",
    "\n",
    "# 테이터 표준화 (퓨처 스케일링)\n",
    "from sklearn.preprocessing import StandardScaler\n",
    "\n",
    "# 모델(알고리즘)\n",
    "from sklearn.linear_model import Perceptron\n",
    "\n",
    "# 모델 성능 평가\n",
    "from sklearn.metrics import accuracy_score\n",
    "\n",
    "import pickle\n",
    "import numpy as np"
   ]
  },
  {
   "cell_type": "code",
   "execution_count": 10,
   "id": "c330aa41",
   "metadata": {},
   "outputs": [
    {
     "name": "stdout",
     "output_type": "stream",
     "text": [
      "<class 'sklearn.utils._bunch.Bunch'>\n",
      "dict_keys(['data', 'target', 'frame', 'target_names', 'DESCR', 'feature_names', 'filename', 'data_module'])\n",
      "['setosa' 'versicolor' 'virginica'] ['sepal length (cm)', 'sepal width (cm)', 'petal length (cm)', 'petal width (cm)']\n"
     ]
    }
   ],
   "source": [
    "iris = datasets.load_iris()\n",
    "print(type(iris))\n",
    "print(iris.keys())\n",
    "print(iris.target_names, iris.feature_names)"
   ]
  },
  {
   "cell_type": "code",
   "execution_count": 23,
   "id": "e28b527f",
   "metadata": {},
   "outputs": [
    {
     "data": {
      "text/plain": [
       "array([0, 0, 0, 0, 0, 0, 0, 0, 0, 0, 0, 0, 0, 0, 0, 0, 0, 0, 0, 0, 0, 0,\n",
       "       0, 0, 0, 0, 0, 0, 0, 0, 0, 0, 0, 0, 0, 0, 0, 0, 0, 0, 0, 0, 0, 0,\n",
       "       0, 0, 0, 0, 0, 0, 1, 1, 1, 1, 1, 1, 1, 1, 1, 1, 1, 1, 1, 1, 1, 1,\n",
       "       1, 1, 1, 1, 1, 1, 1, 1, 1, 1, 1, 1, 1, 1, 1, 1, 1, 1, 1, 1, 1, 1,\n",
       "       1, 1, 1, 1, 1, 1, 1, 1, 1, 1, 1, 1, 2, 2, 2, 2, 2, 2, 2, 2, 2, 2,\n",
       "       2, 2, 2, 2, 2, 2, 2, 2, 2, 2, 2, 2, 2, 2, 2, 2, 2, 2, 2, 2, 2, 2,\n",
       "       2, 2, 2, 2, 2, 2, 2, 2, 2, 2, 2, 2, 2, 2, 2, 2, 2, 2])"
      ]
     },
     "execution_count": 23,
     "metadata": {},
     "output_type": "execute_result"
    }
   ],
   "source": [
    "iris.target"
   ]
  },
  {
   "cell_type": "code",
   "execution_count": 11,
   "id": "2f2c9b20",
   "metadata": {},
   "outputs": [],
   "source": [
    "names = None\n",
    "def step1_get_data():\n",
    "  iris = datasets.load_iris()\n",
    "  X = iris.data[:100, [2, 3]]\n",
    "  y = iris.target[:100]\n",
    "  names = iris.target_names[:2]\n",
    "  return X, y"
   ]
  },
  {
   "cell_type": "code",
   "execution_count": 17,
   "id": "868823da",
   "metadata": {},
   "outputs": [],
   "source": [
    "def step2_learning():\n",
    "  X, y = step1_get_data()\n",
    "  \n",
    "  # 학습 데이터 테스트 데이터 준비\n",
    "  X_train, X_test, y_train, y_test = train_test_split(X, y, test_size=0.3, random_state=0)\n",
    "  \n",
    "  # 데이터 표준화\n",
    "  sc = StandardScaler() # 인스턴스 생성\n",
    "  sc.fit(X_train)  # 클래스 초기화\n",
    "  X_train_std = sc.transform(X_train) # 데이터 변환\n",
    "  \n",
    "  # 모델\n",
    "  ml = Perceptron(eta0=0.01, max_iter=40, random_state=0)\n",
    "  ml.fit(X_train_std, y_train)\n",
    "  \n",
    "  # 모델 평가\n",
    "  X_test_std = sc.transform(X_test) # 테스트 데이터 표준화 작업\n",
    "  y_pred = ml.predict(X_test_std) # 예측값 구하기\n",
    "  print(\"학습 정확도:\" , accuracy_score(y_test, y_pred))\n",
    "  \n",
    "  # 모델 저장\n",
    "  with open(\"./ml.pickle\", \"wb\") as fp:\n",
    "    pickle.dump(sc, fp)\n",
    "    pickle.dump(ml, fp)"
   ]
  },
  {
   "cell_type": "code",
   "execution_count": 18,
   "id": "b2436f62",
   "metadata": {},
   "outputs": [
    {
     "name": "stdout",
     "output_type": "stream",
     "text": [
      "학습 정확도: 1.0\n"
     ]
    }
   ],
   "source": [
    "step2_learning()"
   ]
  },
  {
   "cell_type": "code",
   "execution_count": 24,
   "id": "1727a8c8",
   "metadata": {},
   "outputs": [],
   "source": [
    "def setp3_using():\n",
    "    with open(\"./ml.pickle\", \"rb\") as fp:\n",
    "        sc = pickle.load(fp)\n",
    "        ml = pickle.load(fp)\n",
    "        while True:\n",
    "            a1 = input(\"첫 번째 숫자를 입력하세요(0, 1): \")\n",
    "            if a1 == \"99\":\n",
    "                break\n",
    "            a2 = input(\"두 번째 숫자를 입력하세요(0, 1): \")\n",
    "\n",
    "            X = np.array([[float(a1), float(a2)]])\n",
    "            X_std = sc.transform(X)\n",
    "            result = ml.predict(X_std) # 사이킷런에서 예측값은 벡터로 리턴된다.\n",
    "\n",
    "            if result[0] == 0:\n",
    "                print(\"결과 : setosa\")\n",
    "            else:\n",
    "                print(\"결과 : versicolor\")"
   ]
  },
  {
   "cell_type": "code",
   "execution_count": 25,
   "id": "ca4eefa5",
   "metadata": {},
   "outputs": [
    {
     "name": "stdout",
     "output_type": "stream",
     "text": [
      "결과 : setosa\n"
     ]
    }
   ],
   "source": [
    "setp3_using()"
   ]
  },
  {
   "cell_type": "code",
   "execution_count": null,
   "id": "8bf36429",
   "metadata": {},
   "outputs": [],
   "source": []
  }
 ],
 "metadata": {
  "kernelspec": {
   "display_name": ".venv",
   "language": "python",
   "name": "python3"
  },
  "language_info": {
   "codemirror_mode": {
    "name": "ipython",
    "version": 3
   },
   "file_extension": ".py",
   "mimetype": "text/x-python",
   "name": "python",
   "nbconvert_exporter": "python",
   "pygments_lexer": "ipython3",
   "version": "3.11.11"
  }
 },
 "nbformat": 4,
 "nbformat_minor": 5
}
