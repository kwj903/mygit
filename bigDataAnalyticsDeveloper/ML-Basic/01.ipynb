{
 "cells": [
  {
   "cell_type": "markdown",
   "id": "87c1bc1a",
   "metadata": {},
   "source": [
    "# 회귀 분류"
   ]
  },
  {
   "cell_type": "code",
   "execution_count": 1,
   "id": "7bfb3d12",
   "metadata": {},
   "outputs": [],
   "source": [
    "import numpy as np"
   ]
  },
  {
   "cell_type": "code",
   "execution_count": 2,
   "id": "547f6687",
   "metadata": {},
   "outputs": [
    {
     "name": "stdout",
     "output_type": "stream",
     "text": [
      "[1 2 3] <class 'numpy.ndarray'>\n"
     ]
    }
   ],
   "source": [
    "a1 = np.array([1, 2, 3])\n",
    "print(a1, type(a1))"
   ]
  },
  {
   "cell_type": "code",
   "execution_count": 3,
   "id": "737d42ee",
   "metadata": {},
   "outputs": [
    {
     "data": {
      "text/plain": [
       "np.int64(6)"
      ]
     },
     "execution_count": 3,
     "metadata": {},
     "output_type": "execute_result"
    }
   ],
   "source": [
    "a1.sum()"
   ]
  },
  {
   "cell_type": "code",
   "execution_count": 9,
   "id": "44372009",
   "metadata": {},
   "outputs": [
    {
     "data": {
      "text/plain": [
       "array([32])"
      ]
     },
     "execution_count": 9,
     "metadata": {},
     "output_type": "execute_result"
    }
   ],
   "source": [
    "xx = np.array([1, 2, 3])\n",
    "xxx = np.array([[4, 5, 6]])\n",
    "np.dot(xx, xxx.T)"
   ]
  },
  {
   "cell_type": "markdown",
   "id": "cc1eedb6",
   "metadata": {},
   "source": [
    "# Perceptron"
   ]
  },
  {
   "cell_type": "code",
   "execution_count": null,
   "id": "5353a0e1",
   "metadata": {},
   "outputs": [],
   "source": [
    "class Perceptron:\n",
    "  # 생성자\n",
    "  # thresholds : 임계값, 계산된 예측값을 비요하는\n",
    "  # eta : 학습율\n",
    "  # n_iner : 학습 횟수\n",
    "  def __init__(self, thresholds=0.0, eta=0.01, n_iter=10):\n",
    "    self.thresholds = thresholds\n",
    "    self.eta = eta\n",
    "    self.n_iter = n_iter\n",
    "    \n",
    "  # y = wx + b\n",
    "  # 가중치 * 입력값 의 총 합 더하기 b를 구한다.\n",
    "  def net_input(self, X):\n",
    "    a1 = np.dot(X, self.w_[1:]) + self.w_[0]\n",
    "    return a1\n",
    "\n",
    "  # 학습 함수\n",
    "  def fit(self, X, y):\n",
    "    # 가중치를 담는 변수 X 의 컬럼수 + 1 해서 한자리는 b \n",
    "    self.w_ = np.zeros(X.shape[1] + 1)\n",
    "    # 예측 값, 실제 값 비교해서 다른 값이 나온 수\n",
    "    self.errors_ = []\n",
    "    \n",
    "    for _ in range(self.n_iter):\n",
    "      # 실제 값과 예측과 차이 난 개수\n",
    "      errors = 0\n",
    "      # 입력 받은 X, y를 하나로 묶는다.\n",
    "      temp1 = zip(X, y)\n",
    "      # 입력 값과 결과 값의 묶음을 가지고 반복.\n",
    "      for xi, target in temp1:\n",
    "        a1 = self.predict(xi)\n",
    "        # 입력 값, 예측값이 다르면 가중치를 조정한다.\n",
    "        if target != a1:\n",
    "          update = self.eta * (target - a1)\n",
    "          print(update)\n",
    "          self.w_[1:] += update * xi\n",
    "          self.w_[0] += update\n",
    "          errors += int(update != 0.0)\n",
    "          print(self.w_[1:])\n",
    "          \n",
    "      # 싥제 값과 예측 값이 다른 횟수 기록\n",
    "      self.errors_.append(errors)\n",
    "\n",
    "  # 예측 값 구하기.\n",
    "  def predict(self, X):\n",
    "    a2 = np.where(self.net_input(X) > self.thresholds, 1, -1)\n",
    "    return a2"
   ]
  },
  {
   "cell_type": "code",
   "execution_count": 25,
   "id": "f8717a98",
   "metadata": {},
   "outputs": [],
   "source": [
    "import time\n",
    "import pickle\n",
    "# AND X : 0,0, 1,0, 0,1, 1,1\n",
    "# AND y :  0,   0,   0,   1\n",
    "def step1_learning():\n",
    "  X = np.array([[0, 0], [1, 0], [0, 1], [1, 1]])\n",
    "  y = np.array([-1, -1, -1, 1])\n",
    "  # 모델 학습\n",
    "  ppn = Perceptron(eta=0.1)\n",
    "  s_time = time.time()\n",
    "  ppn.fit(X, y)\n",
    "  e_time = time.time()\n",
    "  print(\"학습에 걸린 시간: \", e_time - s_time)\n",
    "  print(\"학습 중에 오차난 수:\", ppn.errors_)\n",
    "  with open(\"./and_model.pickle\", \"wb\") as f:\n",
    "    pickle.dump(ppn, f)\n",
    "  print(\"학습이 완료되었습니다.\")"
   ]
  },
  {
   "cell_type": "code",
   "execution_count": 26,
   "id": "185b5f5a",
   "metadata": {},
   "outputs": [
    {
     "name": "stdout",
     "output_type": "stream",
     "text": [
      "학습에 걸린 시간:  0.0006148815155029297\n",
      "학습 중에 오차난 수: [1, 3, 3, 2, 1, 0, 0, 0, 0, 0]\n",
      "학습이 완료되었습니다.\n"
     ]
    }
   ],
   "source": [
    "step1_learning()"
   ]
  },
  {
   "cell_type": "code",
   "execution_count": 28,
   "id": "29ffed76",
   "metadata": {},
   "outputs": [],
   "source": [
    "def setp2_using():\n",
    "  with open(\"./and_model.pickle\", \"rb\") as f:\n",
    "    model = pickle.load(f)\n",
    "    while True:\n",
    "      a1 = input(\"첫 번째 숫자를 입력하세요(0, 1): \")\n",
    "      a2 = input(\"두 번째 숫자를 입력하세요(0, 1): \")\n",
    "\n",
    "      X = np.array([int(a1), int(a2)])\n",
    "      result = model.predict(X)\n",
    "      if result == 1:\n",
    "        print(\"결과 : 참\")\n",
    "      else:\n",
    "        print(\"결과 : 거짓\")"
   ]
  },
  {
   "cell_type": "code",
   "execution_count": 29,
   "id": "0a66236d",
   "metadata": {},
   "outputs": [
    {
     "name": "stdout",
     "output_type": "stream",
     "text": [
      "결과 : 거짓\n",
      "결과 : 참\n"
     ]
    },
    {
     "ename": "ValueError",
     "evalue": "invalid literal for int() with base 10: ''",
     "output_type": "error",
     "traceback": [
      "\u001b[31m---------------------------------------------------------------------------\u001b[39m",
      "\u001b[31mValueError\u001b[39m                                Traceback (most recent call last)",
      "\u001b[36mCell\u001b[39m\u001b[36m \u001b[39m\u001b[32mIn[29]\u001b[39m\u001b[32m, line 1\u001b[39m\n\u001b[32m----> \u001b[39m\u001b[32m1\u001b[39m \u001b[43msetp2_using\u001b[49m\u001b[43m(\u001b[49m\u001b[43m)\u001b[49m\n",
      "\u001b[36mCell\u001b[39m\u001b[36m \u001b[39m\u001b[32mIn[28]\u001b[39m\u001b[32m, line 8\u001b[39m, in \u001b[36msetp2_using\u001b[39m\u001b[34m()\u001b[39m\n\u001b[32m      5\u001b[39m a1 = \u001b[38;5;28minput\u001b[39m(\u001b[33m\"\u001b[39m\u001b[33m첫 번째 숫자를 입력하세요(0, 1): \u001b[39m\u001b[33m\"\u001b[39m)\n\u001b[32m      6\u001b[39m a2 = \u001b[38;5;28minput\u001b[39m(\u001b[33m\"\u001b[39m\u001b[33m두 번째 숫자를 입력하세요(0, 1): \u001b[39m\u001b[33m\"\u001b[39m)\n\u001b[32m----> \u001b[39m\u001b[32m8\u001b[39m X = np.array([\u001b[38;5;28mint\u001b[39m(a1), \u001b[38;5;28;43mint\u001b[39;49m\u001b[43m(\u001b[49m\u001b[43ma2\u001b[49m\u001b[43m)\u001b[49m])\n\u001b[32m      9\u001b[39m result = model.predict(X)\n\u001b[32m     10\u001b[39m \u001b[38;5;28;01mif\u001b[39;00m result == \u001b[32m1\u001b[39m:\n",
      "\u001b[31mValueError\u001b[39m: invalid literal for int() with base 10: ''"
     ]
    }
   ],
   "source": [
    "setp2_using()"
   ]
  },
  {
   "cell_type": "code",
   "execution_count": null,
   "id": "2bf4fdc5",
   "metadata": {},
   "outputs": [],
   "source": []
  }
 ],
 "metadata": {
  "kernelspec": {
   "display_name": ".venv",
   "language": "python",
   "name": "python3"
  },
  "language_info": {
   "codemirror_mode": {
    "name": "ipython",
    "version": 3
   },
   "file_extension": ".py",
   "mimetype": "text/x-python",
   "name": "python",
   "nbconvert_exporter": "python",
   "pygments_lexer": "ipython3",
   "version": "3.11.11"
  }
 },
 "nbformat": 4,
 "nbformat_minor": 5
}
